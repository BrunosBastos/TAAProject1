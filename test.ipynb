{
 "cells": [
  {
   "cell_type": "markdown",
   "metadata": {},
   "source": [
    "# ML  Lab 4 - Multi-class Classification (linear vs nonlinear approach) \n",
    "\n",
    "## PART 1: One-vs-all multi-class classification with Logistic Regression - linear approach\n",
    "Objectives: Implementation of one-vs-all Logistic Regression (linear approach) to recognize hand-written digits (from 0 to 9) from images. "
   ]
  },
  {
   "cell_type": "markdown",
   "metadata": {},
   "source": [
    "**Problem**: Automated handwritten digit recognition is widely used today - from recognizing zip codes (postal codes) on mail envelopes to recognizing amounts written on bank checks. This assignment will show you how the methods you've learned can be used for this classification task. In this part, you will extend your previous implementation of Logistic Regression and apply it to one-vs-all classification."
   ]
  },
  {
   "cell_type": "code",
   "execution_count": 3,
   "metadata": {},
   "outputs": [],
   "source": [
    "#Import relevant libraries\n",
    "import numpy as np\n",
    "import pandas as pd\n",
    "import matplotlib.pyplot as plt\n",
    "#to load matlab mat files\n",
    "from scipy.io import loadmat\n",
    "import pathlib\n",
    "import sklearn.datasets\n",
    "from sklearn.model_selection import train_test_split"
   ]
  },
  {
   "cell_type": "code",
   "execution_count": 17,
   "metadata": {
    "tags": []
   },
   "outputs": [
    {
     "name": "stdout",
     "output_type": "stream",
     "text": [
      "Total no of images = 9008\n"
     ]
    }
   ],
   "source": [
    "\n",
    "import copy\n",
    "from PIL import Image\n",
    "import glob\n",
    "\n",
    "import pathlib\n",
    "\n",
    "data_dir = pathlib.Path('./dataset')\n",
    "\n",
    "\n",
    "image_count = len(list(data_dir.glob('*/*.*')))\n",
    "print(\"Total no of images =\", image_count)\n",
    "\n",
    "images = []\n",
    "labels = []\n",
    "classes = set()\n",
    "\n",
    "image_width = 100\n",
    "image_height = 100\n",
    "\n",
    "for filename in data_dir.glob('*/*.*'):\n",
    "    class_name = str(filename).split(\"/\")[1]\n",
    "    classes.add(class_name)\n",
    "    im=copy.deepcopy(Image.open(filename).resize((image_width,image_height)))\n",
    "    images.append(np.array(im, dtype='uint64')[...,:1].reshape((image_width*image_height*1,1)))\n",
    "    labels.append(class_name)\n",
    "    im.close()\n",
    "\n",
    "classes = sorted(list(classes))\n",
    "labels = [i for x in labels for i in range(len(classes)) if x == classes[i]]\n"
   ]
  },
  {
   "cell_type": "code",
   "execution_count": 18,
   "metadata": {},
   "outputs": [
    {
     "name": "stdout",
     "output_type": "stream",
     "text": [
      "(9008, 10000)\n"
     ]
    }
   ],
   "source": [
    "dataX = np.array(images).reshape((len(images), images[0].shape[0]))\n",
    "dataX[dataX >= 128] = 1\n",
    "dataX[dataX <  128] = 0\n",
    "dataY = np.array(labels).reshape((len(labels),1))\n",
    "print(dataX.shape)"
   ]
  },
  {
   "cell_type": "code",
   "execution_count": 19,
   "metadata": {},
   "outputs": [
    {
     "name": "stdout",
     "output_type": "stream",
     "text": [
      "(9008, 10000)\n",
      "(9008, 1)\n"
     ]
    }
   ],
   "source": [
    "print(dataX.shape)\n",
    "print(dataY.shape)\n"
   ]
  },
  {
   "cell_type": "code",
   "execution_count": 20,
   "metadata": {
    "tags": []
   },
   "outputs": [],
   "source": [
    "train_ratio = 0.80\n",
    "validation_ratio = 0.10\n",
    "test_ratio = 0.10\n",
    "\n",
    "# train is now 75% of the entire data set\n",
    "# the _junk suffix means that we drop that variable completely\n",
    "x_train, x_test, y_train, y_test = train_test_split(dataX, dataY, test_size=1 - train_ratio)\n",
    "\n",
    "# test is now 10% of the initial data set\n",
    "# validation is now 15% of the initial data set\n",
    "x_val, x_test, y_val, y_test = train_test_split(x_test, y_test, test_size=test_ratio/(test_ratio + validation_ratio)) \n",
    "\n",
    "#print(x_train, x_val, x_test)"
   ]
  },
  {
   "cell_type": "code",
   "execution_count": 21,
   "metadata": {},
   "outputs": [
    {
     "name": "stdout",
     "output_type": "stream",
     "text": [
      "(7206, 10000)\n",
      "(901, 10000)\n",
      "(901, 10000)\n"
     ]
    }
   ],
   "source": [
    "print(x_train.shape)\n",
    "print(x_val.shape)\n",
    "print(x_test.shape)\n"
   ]
  },
  {
   "cell_type": "markdown",
   "metadata": {},
   "source": [
    "### Computing the Cost Function\n",
    "\n",
    "Recall that the regularized cost function in logistic regression is:\n",
    "\n",
    "$J(\\theta) = \\frac{1}{m} \\sum_{i=1}^{m} [ -y^{(i)}log(h_{\\theta}(x^{(i)})) - (1 - y^{(i)})log(1 - (h_{\\theta}(x^{(i)}))] + \\frac{\\lambda}{2m} \\sum_{j=1}^n \\theta_j^2$\n",
    "\n",
    "The cost gradients are (remember that the gradient of $\\theta_0$ is not regularized): \n",
    "\n",
    "$ \\frac{\\partial J(\\theta)}{\\partial \\theta_j} = \\frac{1}{m} \\sum_{i=1}^{m} (h_{\\theta}(x^{(i)}) - y^{(i)})x_j^{(i)}$ for $j=0$\n",
    "\n",
    "$ \\frac{\\partial J(\\theta)}{\\partial \\theta_j} = \\frac{1}{m} \\sum_{i=1}^{m} (h_{\\theta}(x^{(i)}) - y^{(i)})x_j^{(i)} + \\frac{\\lambda}{m}\\theta_j$ for $j\\geq 1$"
   ]
  },
  {
   "cell_type": "code",
   "execution_count": 22,
   "metadata": {},
   "outputs": [],
   "source": [
    "# Add sigmoid FUNCTION from the previous lab\n",
    "\n",
    "def sigmoid(z):\n",
    "    \"\"\"\n",
    "    return the sigmoid of z\n",
    "    \"\"\"\n",
    "    if z.any() > 1000:\n",
    "        print(z)\n",
    "    \n",
    "    gz= 1/(1+np.exp(-z))\n",
    "    \n",
    "    return gz"
   ]
  },
  {
   "cell_type": "code",
   "execution_count": 23,
   "metadata": {},
   "outputs": [],
   "source": [
    "# Add costFunctionReg FUNCTION from the previous lab (the function that computes the regularized cost and the gradients)\n",
    "def costFunctionReg(X, y, theta, Lambda):\n",
    "    \"\"\"\n",
    "    Take in numpy array of  data X, labels y and theta, to return the regularized cost function and gradients\n",
    "    of the logistic regression classifier\n",
    "    \"\"\"\n",
    "    \n",
    "    #number of training examples \n",
    "    m=len(y)\n",
    "        \n",
    "    #vector of the model predictions for all training examples      \n",
    "    h = sigmoid(np.dot(X, theta))\n",
    "    \n",
    "    error = (-y * np.log(h)) - ((1-y)*np.log(1-h))\n",
    "    \n",
    "    #cost function without regularization term\n",
    "    cost = sum(error)/m\n",
    "    \n",
    "    #add regularization term to the cost function\n",
    "    regCost= cost + Lambda/(2*m) * sum(theta[1:]**2)\n",
    "    \n",
    "    #gradient of theta_0\n",
    "    grad_0= (1/m) * np.dot(X.transpose(),(h - y))[0]\n",
    "    \n",
    "    #vector of gradients of theta_j from j=1:n (adding the regularization term of the gradient)\n",
    "    grad = (1/m) * np.dot(X.transpose(),(h - y))[1:] + (Lambda/m)* theta[1:]\n",
    "       \n",
    "    # all gradients in a column vector shape\n",
    "    grad_all=np.append(grad_0,grad)\n",
    "    grad_all = grad_all.reshape((len(grad_all), 1))\n",
    "    \n",
    "    return regCost[0], grad_all"
   ]
  },
  {
   "cell_type": "code",
   "execution_count": 24,
   "metadata": {},
   "outputs": [],
   "source": [
    "# Add gradientDescent FUNCTION from the previous lab (the function that returns the optimal theta vector and J_history)\n",
    "def gradientDescent(X,y,theta,alpha,num_iters,Lambda):\n",
    "    \"\"\"\n",
    "    Take in numpy array X, y and theta and update theta by taking num_iters gradient steps\n",
    "    with learning rate of alpha\n",
    "    \n",
    "    return theta and the list of the cost of theta during each iteration\n",
    "    \"\"\"\n",
    "    \n",
    "    J_history =[]\n",
    "    \n",
    "    for i in range(num_iters):\n",
    "        \n",
    "        #call CostFunctionReg \n",
    "        cost, grad = costFunctionReg(X,y,theta,Lambda)\n",
    "        \n",
    "        #update theta\n",
    "        theta = theta - alpha*grad\n",
    "        \n",
    "        J_history.append(cost)\n",
    "    \n",
    "    return theta , J_history\n"
   ]
  },
  {
   "cell_type": "markdown",
   "metadata": {},
   "source": [
    "### One-vs-all Classification\n",
    "\n",
    "You will implement one-vs-all classification by training multiple Regularized Logistic Regression classifiers, one for each of the K classes in the MNIST dataset. \n",
    "\n",
    "In the handwritten digits dataset, K = 10, but your code should work for any value of K. You should complete the code in function *oneVsAll* to train one classier for each class. \n",
    "\n",
    "Your code should return all the classifier parameters in a Kx(n+1) matrix *all_theta*, where each row corresponds to the learned Logistic Regression parameters for one class. You can do this with a for-loop from 1 to K, training each classifier independently.\n",
    "\n",
    "Note that the y argument to this function is a vector of labels from 1 to 10, where we have mapped the digit “0\" to the label 10. When training the classifier for class i you will transform  vector y, with shape (m, 1), in a binary vector, where only for examples with label i, y gets value = 1, and for all other labels (not class i), y gets value = 0. \n",
    "\n",
    "Logical arrays are helpful for this task, e.g. y=np.where(y==i,1,0). \n"
   ]
  },
  {
   "cell_type": "code",
   "execution_count": 25,
   "metadata": {},
   "outputs": [],
   "source": [
    "def oneVsAll(X, y, initial_theta, alpha, num_iters, Lambda, K):\n",
    "    \"\"\"\n",
    "    Inputs:\n",
    "    numpy array of data X and labels y\n",
    "    initial_theta - inicialized vector of model parameters theta \n",
    "    alpha - learning rate\n",
    "    num_iters - number of iterations\n",
    "    Lambda - regularization parameter \n",
    "    K -number of classes\n",
    "    \n",
    "    ONEVSALL trains K Logistic Regression classifiers using gradient descent. \n",
    "    \n",
    "    Returns:   \n",
    "    all_theta - Kxn matrix where i-th row corresponds to the i-th classifier, n parameters\n",
    "    all_J - the evolution of cost function during each iteration (J_history) for all K classifiers\n",
    "    \n",
    "    \"\"\"\n",
    "    all_theta = []\n",
    "    all_J=[]\n",
    "    \n",
    "    #number of training examples\n",
    "    m= len(X)\n",
    "    \n",
    "    #number of features\n",
    "    n= X.shape[1]\n",
    "    \n",
    "    # add an extra column of 1´s corresponding to xo=1 (aka intercept term)\n",
    "    X= np.append(np.ones((X.shape[0],1)),X,axis=1) \n",
    "    \n",
    "    \n",
    "\n",
    "    for i in range(0,K):\n",
    "        theta , J_history = gradientDescent(X,np.where(y==i,1,0),initial_theta,alpha,num_iters,Lambda)\n",
    "        \n",
    "        #update (extend)\n",
    "        all_theta.extend(theta) \n",
    "        \n",
    "        #update (extend)\n",
    "        all_J.extend(J_history)\n",
    "        \n",
    "    return np.array(all_theta).reshape(K,n+1), all_J"
   ]
  },
  {
   "cell_type": "code",
   "execution_count": null,
   "metadata": {},
   "outputs": [
    {
     "name": "stdout",
     "output_type": "stream",
     "text": [
      "7206\n"
     ]
    }
   ],
   "source": [
    "#Inicialize vector theta =0\n",
    "initial_theta = np.zeros((x_train.shape[1]+1,1))\n",
    "\n",
    "#Optimization hyper-parameters \n",
    "alpha=1 #learning rate\n",
    "num_iters=10\n",
    "Lambda=1\n",
    "print(len(y_train))\n",
    "\n",
    "\n",
    "all_theta, all_J = oneVsAll(x_train, y_train, initial_theta, alpha, num_iters, Lambda, len(classes))\n"
   ]
  },
  {
   "cell_type": "markdown",
   "metadata": {},
   "source": [
    "### Plot the Cost functions for all (K =10) classifiers "
   ]
  },
  {
   "cell_type": "code",
   "execution_count": 16,
   "metadata": {},
   "outputs": [
    {
     "data": {
      "text/plain": [
       "Text(0.5, 1.0, 'Cost function using Gradient Descent')"
      ]
     },
     "execution_count": 16,
     "metadata": {},
     "output_type": "execute_result"
    },
    {
     "data": {
      "image/png": "[encoded data removed]",
      "text/plain": [
       "<Figure size 432x288 with 1 Axes>"
      ]
     },
     "metadata": {
      "needs_background": "light"
     },
     "output_type": "display_data"
    }
   ],
   "source": [
    "plt.plot(all_J)  #All classifiers\n",
    "#print(all_J)\n",
    "plt.xlabel(\"Iteration\")\n",
    "plt.ylabel(\"$J(\\Theta)$\")\n",
    "plt.title(\"Cost function using Gradient Descent\")"
   ]
  },
  {
   "cell_type": "markdown",
   "metadata": {},
   "source": [
    "### One-vs-all Prediction\n",
    "\n",
    "After training the one-vs-all classier, you can now use it to predict the digit contained in a given image. \n",
    "\n",
    "For each input, you should compute the probability that it belongs to each class using the trained logistic regression classifiers.\n",
    "The  *predictOneVsAll* function will pick the class for which the corresponding logistic regression classifier outputs the highest probability and return the class label (1, 2,..., or K) as the assigned class for this example.\n",
    "Complete the code in *predictOneVsAll* use the trained (one-vs-all) classifiers to make predictions. You should see that the training set accuracy is about 91.5%. \n"
   ]
  },
  {
   "cell_type": "code",
   "execution_count": null,
   "metadata": {},
   "outputs": [],
   "source": [
    "def predictOneVsAll(all_theta, X):\n",
    "    \"\"\"\n",
    "    Using all_theta, compute the probability of image X(i) for each class and predict the label\n",
    "    \n",
    "    return a vector of prediction\n",
    "    \"\"\"\n",
    "    #number of training examples\n",
    "    m=len(X)\n",
    "    \n",
    "    # add an extra column of 1´s corresponding to xo=1 (aka intercept term)\n",
    "    X = np.append(np.ones((X.shape[0],1)),X,axis=1)\n",
    "    \n",
    "    predictions = np.dot (X, all_theta.T) # predictions.shape =(5000,10)\n",
    "    #np.argmax returns indices of the max element of the array in a particular axis.\n",
    "    #+1 in order to label 0 as 10. \n",
    "    return np.argmax(predictions,axis=1)"
   ]
  },
  {
   "cell_type": "code",
   "execution_count": null,
   "metadata": {},
   "outputs": [],
   "source": [
    "pred = predictOneVsAll(all_theta, x_val)\n",
    "m = len(y_val)\n",
    "#Check that pred.shape  = (5000,) => rank 1 array. You need to reshape it !!!\n",
    "pred= pred.reshape((len(x_val),1))\n",
    "print(\"Training Set Accuracy:\", sum(np.equal(pred,y_val))[0]/m*100,\"%\")"
   ]
  },
  {
   "cell_type": "markdown",
   "metadata": {},
   "source": [
    "##  PART 2: One-vs-all multi-class classification with pretrained Neural Network - nonlinear classification\n",
    "\n",
    "In Part 1, you implemented multi-class logistic regression to recognize handwritten digits. However, logistic regression cannot propose more complex hypotheses as it is only a linear classifier. \n",
    "\n",
    "In this part, you will implement a NN to recognize handwritten digits using the same training set as before. The NN is able to represent complex non-linear hypotheses (models). \n",
    "\n",
    "For this assignment, you will use parameters from a NN that have been already trained. Your goal is to use the learned NN parameters (weights) for prediction. \n",
    "\n",
    "### Load trained parameters theta (transfer learning)"
   ]
  },
  {
   "cell_type": "code",
   "execution_count": null,
   "metadata": {},
   "outputs": [],
   "source": [
    "mat2=loadmat(\"ex3weights.mat\")\n",
    "Theta1=mat2[\"Theta1\"] # Theta1 has size 25 x 401\n",
    "Theta2=mat2[\"Theta2\"] # Theta2 has size 10 x 26\n",
    "\n",
    "print(Theta1.shape)\n",
    "\n",
    "print(Theta2.shape)"
   ]
  },
  {
   "cell_type": "markdown",
   "metadata": {},
   "source": [
    "### Class prediction with trained NN with one hidden layer (feedforward propagation)\n",
    "\n",
    "Complete the code in function *predict* to return the NN's prediction. You should implement the feedforward computation that computes the NN output for all examples in a vectorized way. Similar to the one-vs-all classification strategy, the NN prediction is the index of the largest output.\n",
    "\n",
    "You should see that the accuracy is about 97.5%. "
   ]
  },
  {
   "cell_type": "code",
   "execution_count": null,
   "metadata": {},
   "outputs": [],
   "source": [
    "def predict(Theta1, Theta2, X):\n",
    "    \"\"\"\n",
    "    Predict the label of an input given a trained neural network\n",
    "    \"\"\"\n",
    "    \n",
    "    #number of training examples\n",
    "    m=len(X)\n",
    "        \n",
    "    # add an extra column of 1´s corresponding to xo=1\n",
    "    X = np.append(np.ones((X.shape[0],1)),X,axis=1)\n",
    "    \n",
    "    #Compute the output of the hidden layer (with sigmoid activation functions)\n",
    "    z1= np.dot(X, Theta1.T)  #Inputs to the hidden layer neurons\n",
    "    a1= sigmoid(z1)  #Outputs  of the hidden layer neurons\n",
    "    \n",
    "    #Add a column of ones\n",
    "    a1 = np.append(np.ones((a1.shape[0],1)),a1,axis=1)\n",
    "    \n",
    "    #Compute the output of the output layer (with sigmoid activation functions)\n",
    "    z2= np.dot(a1,Theta2.T) #Inputs to the output layer neurons\n",
    "    a2= sigmoid(z2)  #Outputs  of the output layer neurons\n",
    "    \n",
    "    return np.argmax(a2,axis=1)+1"
   ]
  },
  {
   "cell_type": "code",
   "execution_count": null,
   "metadata": {},
   "outputs": [],
   "source": [
    "pred2 = predict(Theta1, Theta2, X)\n",
    "print(\"Training Set Accuracy:\",sum(pred2[:,np.newaxis]==y)[0]/m*100,\"%\")"
   ]
  },
  {
   "cell_type": "markdown",
   "metadata": {},
   "source": [
    "### PART 3: Neural Network training to predict the digit\n",
    "\n",
    "**Objectives**: Implement Backpropagation algorithm for NN training to the task of hand-written digit recognition.\n",
    "\n",
    "In this part the code is complete, you just need to understand it. \n",
    "\n",
    "**NN cost function:** \n",
    "$J(\\theta) = \\frac{1}{m} \\sum_{i=1}^m \\sum_{k=1}^k [-y_k^{(i)} log(h_\\theta(x^{(i)})_k) - ( 1 -y_k^{(i)} log (1-h_\\theta(x^{(i)})_k)] + \\frac{\\lambda}{2m}[\\sum_{j=1}^{25} \\sum_{k=1}^{400} (\\theta_{j,k}^{(1)})^2 + \\sum_{j=1}^{10} \\sum_{k=1}^{25} (\\theta_{j,k}^{(2)})^2]$\n",
    "\n",
    "*nnCostFunction* computes the NN cost (above) and the gradients with and without regularization."
   ]
  },
  {
   "cell_type": "code",
   "execution_count": null,
   "metadata": {},
   "outputs": [],
   "source": [
    "def nnCostFunction(nn_params,input_layer_size, hidden_layer_size, num_labels,X, y,Lambda):\n",
    "    \"\"\"\n",
    "    nn_params contains the parameters unrolled into a vector\n",
    "    \n",
    "    compute the cost and gradient of the neural network\n",
    "    \"\"\"\n",
    "    # Reshape nn_params back into the parameters Theta1 and Theta2\n",
    "    Theta1 = nn_params[:((input_layer_size+1) * hidden_layer_size)].reshape(hidden_layer_size,input_layer_size+1)\n",
    "    Theta2 = nn_params[((input_layer_size +1)* hidden_layer_size ):].reshape(num_labels,hidden_layer_size+1)\n",
    "    \n",
    "    m = X.shape[0]\n",
    "    J=0\n",
    "    X = np.hstack((np.ones((m,1)),X))\n",
    "    y10 = np.zeros((m,num_labels))\n",
    "    \n",
    "    a1 = sigmoid(X @ Theta1.T)\n",
    "    a1 = np.hstack((np.ones((m,1)), a1)) # hidden layer\n",
    "    a2 = sigmoid(a1 @ Theta2.T) # output layer\n",
    "    \n",
    "    for i in range(1,num_labels+1):\n",
    "        y10[:,i-1][:,np.newaxis] = np.where(y==i,1,0)\n",
    "    for j in range(num_labels):\n",
    "        J = J + sum(-y10[:,j] * np.log(a2[:,j]) - (1-y10[:,j])*np.log(1-a2[:,j]))\n",
    "    \n",
    "    cost = 1/m* J\n",
    "    reg_J = cost + Lambda/(2*m) * (np.sum(Theta1[:,1:]**2) + np.sum(Theta2[:,1:]**2))\n",
    "    \n",
    "    # Implement the backpropagation algorithm to compute the gradients\n",
    "    \n",
    "    grad1 = np.zeros((Theta1.shape))\n",
    "    grad2 = np.zeros((Theta2.shape))\n",
    "    \n",
    "    for i in range(m):\n",
    "        xi= X[i,:] # 1 X 401\n",
    "        a1i = a1[i,:] # 1 X 26\n",
    "        a2i =a2[i,:] # 1 X 10\n",
    "        d2 = a2i - y10[i,:]\n",
    "        d1 = Theta2.T @ d2.T * sigmoidGradient(np.hstack((1,xi @ Theta1.T)))\n",
    "        grad1= grad1 + d1[1:][:,np.newaxis] @ xi[:,np.newaxis].T\n",
    "        grad2 = grad2 + d2.T[:,np.newaxis] @ a1i[:,np.newaxis].T\n",
    "        \n",
    "    grad1 = 1/m * grad1\n",
    "    grad2 = 1/m*grad2\n",
    "    \n",
    "    grad1_reg = grad1 + (Lambda/m) * np.hstack((np.zeros((Theta1.shape[0],1)),Theta1[:,1:]))\n",
    "    grad2_reg = grad2 + (Lambda/m) * np.hstack((np.zeros((Theta2.shape[0],1)),Theta2[:,1:]))\n",
    "    \n",
    "    return cost, grad1, grad2, reg_J, grad1_reg, grad2_reg"
   ]
  },
  {
   "cell_type": "code",
   "execution_count": null,
   "metadata": {},
   "outputs": [],
   "source": [
    "#Computes the gradient of sigmoid function\n",
    "def sigmoidGradient(z):\n",
    "    \"\"\"\n",
    "    computes the gradient of the sigmoid function\n",
    "    \"\"\"\n",
    "    sigmoid = 1/(1 + np.exp(-z))\n",
    "    \n",
    "    return sigmoid *(1-sigmoid) "
   ]
  },
  {
   "cell_type": "markdown",
   "metadata": {},
   "source": [
    "### Random initialization\n",
    "\n",
    "Select values for $\\theta^{(l)}$ uniformly in the range $[-\\epsilon_{init} , \\epsilon_{init}]$\n",
    "\n",
    "One effective strategy for choosing $\\epsilon_{init}$ is to base it on the number of units in the network\n",
    "\n",
    "$\\epsilon_{init} = \\frac{\\sqrt{6}}{\\sqrt{L_{in} + L_{out}}}$"
   ]
  },
  {
   "cell_type": "code",
   "execution_count": null,
   "metadata": {},
   "outputs": [],
   "source": [
    "def randInitializeWeights(L_in, L_out):\n",
    "    \"\"\"\n",
    "    randomly initializes the weights of a layer with L_in incoming connections and L_out outgoing connections.\n",
    "    \"\"\"\n",
    "    \n",
    "    epi = (6**1/2) / (L_in + L_out)**1/2\n",
    "    \n",
    "    W = np.random.rand(L_out,L_in +1) *(2*epi) -epi\n",
    "    \n",
    "    return W"
   ]
  },
  {
   "cell_type": "code",
   "execution_count": null,
   "metadata": {},
   "outputs": [],
   "source": [
    "print(25*401+260)"
   ]
  },
  {
   "cell_type": "code",
   "execution_count": null,
   "metadata": {},
   "outputs": [],
   "source": [
    "\n"
   ]
  },
  {
   "cell_type": "markdown",
   "metadata": {},
   "source": [
    "### Gradient Descent for shallow NN (input-layer => ONE hidden layer => output layer) "
   ]
  },
  {
   "cell_type": "code",
   "execution_count": null,
   "metadata": {},
   "outputs": [],
   "source": [
    "def gradientDescentnn(X,y,initial_nn_params,alpha,num_iters,Lambda,input_layer_size, hidden_layer_size, num_labels):\n",
    "    \"\"\"\n",
    "    Take in numpy array X, y and theta and update theta by taking num_iters gradient steps\n",
    "    with learning rate of alpha\n",
    "    \n",
    "    return theta and the list of the cost of theta during each iteration\n",
    "    \"\"\"\n",
    "    Theta1 = initial_nn_params[:((input_layer_size+1) * hidden_layer_size)].reshape(hidden_layer_size,input_layer_size+1)\n",
    "    Theta2 = initial_nn_params[((input_layer_size +1)* hidden_layer_size ):].reshape(num_labels,hidden_layer_size+1)\n",
    "    \n",
    "    m=len(y)\n",
    "    J_history =[]\n",
    "    \n",
    "    for i in range(num_iters):\n",
    "        nn_params = np.append(Theta1.flatten(),Theta2.flatten())\n",
    "        cost, grad1, grad2 = nnCostFunction(nn_params,input_layer_size, hidden_layer_size, num_labels,X, y,Lambda)[3:]\n",
    "        Theta1 = Theta1 - (alpha * grad1)\n",
    "        Theta2 = Theta2 - (alpha * grad2)\n",
    "        J_history.append(cost)\n",
    "    \n",
    "    nn_paramsFinal = np.append(Theta1.flatten(),Theta2.flatten())\n",
    "    return nn_paramsFinal , J_history"
   ]
  },
  {
   "cell_type": "code",
   "execution_count": null,
   "metadata": {},
   "outputs": [],
   "source": [
    "#It may take very long to finish the training. \n",
    "#For 1000 iterations the Training Set Accuracy: 95.28(lambda=0.1; alpha=1)\n",
    "#You may need more iterations (e.g. 1500) to get better accuracy\n",
    "\n",
    "input_layer_size  = x_train.shape[0] * x_train.shape[1]\n",
    "hidden_layer_size = 25\n",
    "\n",
    "alpha=1 #learning rate\n",
    "num_iters=1000\n",
    "Lambda=0.1\n",
    "num_labels = 10\n",
    "\n",
    "initial_Theta1 = randInitializeWeights(input_layer_size, hidden_layer_size)\n",
    "initial_Theta2 = randInitializeWeights(hidden_layer_size, num_labels)\n",
    "initial_nn_params = np.append(initial_Theta1.flatten(),initial_Theta2.flatten())\n",
    "\n",
    "\n",
    "nnTheta, nnJ_history = gradientDescentnn(X_train,y_train,initial_nn_params,alpha,num_iters,Lambda,input_layer_size, hidden_layer_size, num_labels)\n",
    "\n",
    "Theta1 = nnTheta[:((input_layer_size+1) * hidden_layer_size)].reshape(hidden_layer_size,input_layer_size+1)\n",
    "Theta2 = nnTheta[((input_layer_size +1)* hidden_layer_size ):].reshape(num_labels,hidden_layer_size+1)"
   ]
  },
  {
   "cell_type": "code",
   "execution_count": null,
   "metadata": {},
   "outputs": [],
   "source": [
    "pred3 = predict(Theta1, Theta2, X)\n",
    "print(\"Training Set Accuracy:\",sum(pred3[:,np.newaxis]==y)[0]/m*100,\"%\")"
   ]
  },
  {
   "cell_type": "code",
   "execution_count": null,
   "metadata": {},
   "outputs": [],
   "source": [
    "# Plot the cost function evolution during training.\n",
    "#In order to say learning has finished, the cost function has to converge to a flat rate\n",
    "plt.plot(nnJ_history)  #\n",
    "plt.xlabel(\"Iteration\")\n",
    "plt.ylabel(\"$J(\\Theta)$\")\n",
    "plt.title(\"Cost function using Gradient Descent\")"
   ]
  },
  {
   "cell_type": "code",
   "execution_count": null,
   "metadata": {},
   "outputs": [],
   "source": []
  }
 ],
 "metadata": {
  "kernelspec": {
   "display_name": "Python 3",
   "language": "python",
   "name": "python3"
  },
  "language_info": {
   "codemirror_mode": {
    "name": "ipython",
    "version": 3
   },
   "file_extension": ".py",
   "mimetype": "text/x-python",
   "name": "python",
   "nbconvert_exporter": "python",
   "pygments_lexer": "ipython3",
   "version": "3.8.5"
  }
 },
 "nbformat": 4,
 "nbformat_minor": 2
}
