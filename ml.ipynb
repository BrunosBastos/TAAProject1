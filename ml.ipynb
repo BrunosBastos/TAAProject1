{
 "cells": [
  {
   "cell_type": "code",
   "execution_count": 1,
   "metadata": {},
   "outputs": [
    {
     "name": "stdout",
     "output_type": "stream",
     "text": [
      "INFO:tensorflow:Enabling eager execution\n",
      "INFO:tensorflow:Enabling v2 tensorshape\n",
      "INFO:tensorflow:Enabling resource variables\n",
      "INFO:tensorflow:Enabling tensor equality\n",
      "INFO:tensorflow:Enabling control flow v2\n"
     ]
    }
   ],
   "source": [
    "import matplotlib.pyplot as plt\n",
    "import numpy as np\n",
    "import os\n",
    "import PIL\n",
    "import itertools    \n",
    "import tensorflow as tf\n",
    "\n",
    "from tensorflow import keras\n",
    "from tensorflow.keras import layers\n",
    "from tensorflow.keras.models import Sequential\n",
    "from sklearn.metrics import confusion_matrix"
   ]
  },
  {
   "cell_type": "markdown",
   "metadata": {},
   "source": [
    "## Read images"
   ]
  },
  {
   "cell_type": "code",
   "execution_count": 2,
   "metadata": {},
   "outputs": [
    {
     "name": "stdout",
     "output_type": "stream",
     "text": [
      "Total no of images = 5305\n"
     ]
    },
    {
     "data": {
      "text/plain": [
       "<BarContainer object of 10 artists>"
      ]
     },
     "execution_count": 2,
     "metadata": {},
     "output_type": "execute_result"
    },
    {
     "data": {
      "image/png": "[encoded data removed]",
      "text/plain": [
       "<Figure size 432x288 with 1 Axes>"
      ]
     },
     "metadata": {
      "needs_background": "light"
     },
     "output_type": "display_data"
    }
   ],
   "source": [
    "import pathlib\n",
    "\n",
    "data_dir = pathlib.Path('./dataset')\n",
    "\n",
    "\n",
    "image_count = len(list(data_dir.glob('*/*.*')))\n",
    "print(\"Total no of images =\", image_count)\n",
    "\n",
    "images = []\n",
    "labels = []\n",
    "for item in data_dir.glob('*'):\n",
    "    labels.append(str(item).split('/')[-1])\n",
    "    images.append(len(list(item.glob('*'))))\n",
    "    \n",
    "images = [i for l, i in sorted(zip(labels, images))]\n",
    "labels.sort()\n",
    "plt.bar(labels, images)\n"
   ]
  },
  {
   "cell_type": "markdown",
   "metadata": {},
   "source": [
    "## Split data"
   ]
  },
  {
   "cell_type": "code",
   "execution_count": 3,
   "metadata": {},
   "outputs": [],
   "source": [
    "\n",
    "\n",
    "batch_size = 64\n",
    "img_height = 100\n",
    "img_width = 100\n",
    "\n"
   ]
  },
  {
   "cell_type": "code",
   "execution_count": 4,
   "metadata": {},
   "outputs": [
    {
     "name": "stdout",
     "output_type": "stream",
     "text": [
      "Found 5304 files belonging to 10 classes.\n",
      "Using 4774 files for training.\n"
     ]
    }
   ],
   "source": [
    "train_ds = tf.keras.preprocessing.image_dataset_from_directory(\n",
    "  data_dir,\n",
    "  color_mode=\"grayscale\",\n",
    "  validation_split=0.1,\n",
    "  subset=\"training\",\n",
    "  seed=123,\n",
    "  image_size=(img_height, img_width),\n",
    "  batch_size=batch_size)"
   ]
  },
  {
   "cell_type": "code",
   "execution_count": 5,
   "metadata": {},
   "outputs": [
    {
     "name": "stdout",
     "output_type": "stream",
     "text": [
      "Found 5304 files belonging to 10 classes.\n",
      "Using 1060 files for validation.\n"
     ]
    }
   ],
   "source": [
    "val_ds = tf.keras.preprocessing.image_dataset_from_directory(\n",
    "  data_dir,\n",
    "  color_mode=\"grayscale\",\n",
    "  validation_split=0.2,\n",
    "  subset=\"validation\",\n",
    "  seed=123,\n",
    "  image_size=(img_height, img_width),\n",
    "  batch_size=batch_size)"
   ]
  },
  {
   "cell_type": "code",
   "execution_count": 6,
   "metadata": {},
   "outputs": [],
   "source": [
    "class_names = train_ds.class_names"
   ]
  },
  {
   "cell_type": "code",
   "execution_count": 7,
   "metadata": {},
   "outputs": [
    {
     "data": {
      "image/png": "[encoded data removed]",
      "text/plain": [
       "<Figure size 720x720 with 1 Axes>"
      ]
     },
     "metadata": {
      "needs_background": "light"
     },
     "output_type": "display_data"
    }
   ],
   "source": [
    "plt.figure(figsize=(10, 10))\n",
    "for images, labels in val_ds.take(1):\n",
    "  for i in range(1):\n",
    "    ax = plt.subplot(3, 3, i + 1)\n",
    "    plt.imshow(images[i].numpy().astype(\"uint8\"))\n",
    "    plt.title(class_names[labels[i]])\n",
    "    plt.axis(\"off\")"
   ]
  },
  {
   "cell_type": "code",
   "execution_count": 8,
   "metadata": {},
   "outputs": [],
   "source": [
    "num_classes = 10\n",
    "img_channels = 1\n",
    "\n",
    "model = Sequential([\n",
    "  layers.Conv2D(16, 3, padding='same', activation='relu',input_shape=(img_height, img_width, img_channels)),\n",
    "  layers.MaxPooling2D(),\n",
    "  layers.Conv2D(32, 3, padding='same', activation='relu'),\n",
    "  layers.MaxPooling2D(),\n",
    "  layers.Conv2D(64, 3, padding='same', activation='relu'),\n",
    "  layers.MaxPooling2D(),\n",
    "  layers.Dropout(0.2),\n",
    "  layers.Flatten(),\n",
    "  layers.Dense(128, activation='relu'),\n",
    "  layers.Dense(num_classes),\n",
    "  #keras.layers.Dense(num_classes, activation='softmax')\n",
    "])"
   ]
  },
  {
   "cell_type": "code",
   "execution_count": 9,
   "metadata": {},
   "outputs": [],
   "source": [
    "\n",
    "\n",
    "model.compile(optimizer='adam',\n",
    "              loss=tf.keras.losses.SparseCategoricalCrossentropy(from_logits=True),\n",
    "              metrics=['accuracy'])\n",
    "\n"
   ]
  },
  {
   "cell_type": "code",
   "execution_count": 10,
   "metadata": {},
   "outputs": [
    {
     "name": "stdout",
     "output_type": "stream",
     "text": [
      "Model: \"sequential\"\n",
      "_________________________________________________________________\n",
      "Layer (type)                 Output Shape              Param #   \n",
      "=================================================================\n",
      "conv2d (Conv2D)              (None, 100, 100, 16)      160       \n",
      "_________________________________________________________________\n",
      "max_pooling2d (MaxPooling2D) (None, 50, 50, 16)        0         \n",
      "_________________________________________________________________\n",
      "conv2d_1 (Conv2D)            (None, 50, 50, 32)        4640      \n",
      "_________________________________________________________________\n",
      "max_pooling2d_1 (MaxPooling2 (None, 25, 25, 32)        0         \n",
      "_________________________________________________________________\n",
      "conv2d_2 (Conv2D)            (None, 25, 25, 64)        18496     \n",
      "_________________________________________________________________\n",
      "max_pooling2d_2 (MaxPooling2 (None, 12, 12, 64)        0         \n",
      "_________________________________________________________________\n",
      "dropout (Dropout)            (None, 12, 12, 64)        0         \n",
      "_________________________________________________________________\n",
      "flatten (Flatten)            (None, 9216)              0         \n",
      "_________________________________________________________________\n",
      "dense (Dense)                (None, 128)               1179776   \n",
      "_________________________________________________________________\n",
      "dense_1 (Dense)              (None, 64)                8256      \n",
      "_________________________________________________________________\n",
      "dense_2 (Dense)              (None, 10)                650       \n",
      "=================================================================\n",
      "Total params: 1,211,978\n",
      "Trainable params: 1,211,978\n",
      "Non-trainable params: 0\n",
      "_________________________________________________________________\n"
     ]
    }
   ],
   "source": [
    "model.summary()"
   ]
  },
  {
   "cell_type": "code",
   "execution_count": 11,
   "metadata": {},
   "outputs": [
    {
     "name": "stdout",
     "output_type": "stream",
     "text": [
      "Epoch 1/15\n",
      "75/75 [==============================] - 15s 199ms/step - loss: 20.8756 - accuracy: 0.1660 - val_loss: 1.1381 - val_accuracy: 0.6245\n",
      "Epoch 2/15\n",
      "75/75 [==============================] - 20s 263ms/step - loss: 1.1313 - accuracy: 0.6324 - val_loss: 0.6007 - val_accuracy: 0.8132\n",
      "Epoch 3/15\n",
      "75/75 [==============================] - 19s 258ms/step - loss: 0.5287 - accuracy: 0.8263 - val_loss: 0.3405 - val_accuracy: 0.8981\n",
      "Epoch 4/15\n",
      "75/75 [==============================] - 20s 262ms/step - loss: 0.2878 - accuracy: 0.9071 - val_loss: 0.3054 - val_accuracy: 0.9170\n",
      "Epoch 5/15\n",
      "75/75 [==============================] - 20s 258ms/step - loss: 0.1954 - accuracy: 0.9331 - val_loss: 0.3051 - val_accuracy: 0.9198\n",
      "Epoch 6/15\n",
      "75/75 [==============================] - 19s 256ms/step - loss: 0.1327 - accuracy: 0.9553 - val_loss: 0.2711 - val_accuracy: 0.9264\n",
      "Epoch 7/15\n",
      "75/75 [==============================] - 19s 255ms/step - loss: 0.1077 - accuracy: 0.9688 - val_loss: 0.2724 - val_accuracy: 0.9330\n",
      "Epoch 8/15\n",
      "75/75 [==============================] - 19s 256ms/step - loss: 0.1012 - accuracy: 0.9705 - val_loss: 0.2944 - val_accuracy: 0.9302\n",
      "Epoch 9/15\n",
      "75/75 [==============================] - 19s 258ms/step - loss: 0.0546 - accuracy: 0.9816 - val_loss: 0.2627 - val_accuracy: 0.9368\n",
      "Epoch 10/15\n",
      "75/75 [==============================] - 19s 255ms/step - loss: 0.0574 - accuracy: 0.9823 - val_loss: 0.2288 - val_accuracy: 0.9472\n",
      "Epoch 11/15\n",
      "75/75 [==============================] - 20s 259ms/step - loss: 0.0508 - accuracy: 0.9827 - val_loss: 0.2205 - val_accuracy: 0.9453\n",
      "Epoch 12/15\n",
      "75/75 [==============================] - 19s 256ms/step - loss: 0.0437 - accuracy: 0.9871 - val_loss: 0.2576 - val_accuracy: 0.9340\n",
      "Epoch 13/15\n",
      "75/75 [==============================] - 19s 257ms/step - loss: 0.0438 - accuracy: 0.9830 - val_loss: 0.3217 - val_accuracy: 0.9311\n",
      "Epoch 14/15\n",
      "75/75 [==============================] - 20s 259ms/step - loss: 0.0701 - accuracy: 0.9742 - val_loss: 0.4253 - val_accuracy: 0.9236\n",
      "Epoch 15/15\n",
      "75/75 [==============================] - 21s 273ms/step - loss: 0.0548 - accuracy: 0.9839 - val_loss: 0.2646 - val_accuracy: 0.9425\n"
     ]
    }
   ],
   "source": [
    "epochs = 15\n",
    "history = model.fit(\n",
    "  train_ds,\n",
    "  validation_data=val_ds,\n",
    "  epochs=epochs\n",
    ")"
   ]
  },
  {
   "cell_type": "code",
   "execution_count": 12,
   "metadata": {},
   "outputs": [
    {
     "data": {
      "image/png": "[encoded data removed]",
      "text/plain": [
       "<Figure size 576x576 with 2 Axes>"
      ]
     },
     "metadata": {
      "needs_background": "light"
     },
     "output_type": "display_data"
    }
   ],
   "source": [
    "acc = history.history['accuracy']\n",
    "val_acc = history.history['val_accuracy']\n",
    "\n",
    "loss = history.history['loss']\n",
    "val_loss = history.history['val_loss']\n",
    "\n",
    "epochs_range = range(epochs)\n",
    "\n",
    "plt.figure(figsize=(8, 8))\n",
    "plt.subplot(1, 2, 1)\n",
    "plt.plot(epochs_range, acc, label='Training Accuracy')\n",
    "plt.plot(epochs_range, val_acc, label='Validation Accuracy')\n",
    "plt.legend(loc='lower right')\n",
    "plt.title('Training and Validation Accuracy')\n",
    "\n",
    "plt.subplot(1, 2, 2)\n",
    "plt.plot(epochs_range, loss, label='Training Loss')\n",
    "plt.plot(epochs_range, val_loss, label='Validation Loss')\n",
    "plt.legend(loc='upper right')\n",
    "plt.title('Training and Validation Loss')\n",
    "plt.show()\n"
   ]
  },
  {
   "cell_type": "code",
   "execution_count": 17,
   "metadata": {},
   "outputs": [
    {
     "data": {
      "image/png": "[encoded data removed]",
      "text/plain": [
       "<Figure size 576x576 with 2 Axes>"
      ]
     },
     "metadata": {
      "needs_background": "light"
     },
     "output_type": "display_data"
    }
   ],
   "source": [
    "def plot_confusion_matrix(cm, class_names):\n",
    "  \"\"\"\n",
    "  Returns a matplotlib figure containing the plotted confusion matrix.\n",
    "\n",
    "  Args:\n",
    "    cm (array, shape = [n, n]): a confusion matrix of integer classes\n",
    "    class_names (array, shape = [n]): String names of the integer classes\n",
    "  \"\"\"\n",
    "  # Compute the labels from the normalized confusion matrix.\n",
    "  labels = cm# np.around(cm.astype('float') / cm.sum(axis=0)[np.newaxis, :], decimals=2)\n",
    "    \n",
    "  figure = plt.figure(figsize=(8, 8))\n",
    "  plt.imshow(labels, interpolation='nearest', cmap=plt.cm.Reds)\n",
    "  plt.title(\"Confusion matrix\")\n",
    "  plt.colorbar()\n",
    "  tick_marks = np.arange(len(class_names))\n",
    "  plt.xticks(tick_marks, class_names, rotation=45)\n",
    "  plt.yticks(tick_marks, class_names)\n",
    "\n",
    "  \n",
    "\n",
    "  # Use white text if squares are dark; otherwise black.\n",
    "  threshold = labels.max() / 2.\n",
    "  for i, j in itertools.product(range(labels.shape[0]), range(labels.shape[1])):\n",
    "    color = \"white\" if labels[i, j] > threshold else \"black\"\n",
    "    plt.text(j, i, labels[i, j], horizontalalignment=\"center\", color=color)\n",
    "\n",
    "  plt.tight_layout()\n",
    "  plt.ylabel('True label')\n",
    "  plt.xlabel('Predicted label')\n",
    "  return figure\n",
    "\n",
    "y_pred = model.predict(val_ds)\n",
    "#y_pred = tf.nn.softmax(y_pred)\n",
    "predicted_categories = tf.argmax(y_pred, axis=1)\n",
    "true_categories = tf.concat([y for x, y in val_ds], axis=0)\n",
    "cm = confusion_matrix(predicted_categories, true_categories)\n",
    "figure = plot_confusion_matrix(cm, class_names)"
   ]
  },
  {
   "cell_type": "code",
   "execution_count": 15,
   "metadata": {},
   "outputs": [
    {
     "name": "stdout",
     "output_type": "stream",
     "text": [
      "This image most likely belongs to 4 with a 99.60 percent confidence.\n"
     ]
    }
   ],
   "source": [
    " test_image_path = \"eq.png\"\n",
    "\n",
    " img = keras.preprocessing.image.load_img(\n",
    "     test_image_path, target_size=(img_height, img_width), color_mode=\"grayscale\"\n",
    " )\n",
    " img_array = keras.preprocessing.image.img_to_array(img)\n",
    " img_array = tf.expand_dims(img_array, 0)  #Create a batch\n",
    "\n",
    " predictions = model.predict(img_array)\n",
    " score = tf.nn.softmax(predictions[0])\n",
    "\n",
    "print(\n",
    "    \"This image most likely belongs to {} with a {:.2f} percent confidence.\"\n",
    "    .format(class_names[np.argmax(score)], 100 * np.max(score))\n",
    ")"
   ]
  },
  {
   "cell_type": "code",
   "execution_count": null,
   "metadata": {},
   "outputs": [],
   "source": []
  }
 ],
 "metadata": {
  "kernelspec": {
   "display_name": "my-conda-env-kernel",
   "language": "python",
   "name": "my-conda-env-kernel"
  },
  "language_info": {
   "codemirror_mode": {
    "name": "ipython",
    "version": 3
   },
   "file_extension": ".py",
   "mimetype": "text/x-python",
   "name": "python",
   "nbconvert_exporter": "python",
   "pygments_lexer": "ipython3",
   "version": "3.9.2"
  }
 },
 "nbformat": 4,
 "nbformat_minor": 2
}
